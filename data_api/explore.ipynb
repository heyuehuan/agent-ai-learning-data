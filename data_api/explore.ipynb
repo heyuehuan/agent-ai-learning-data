{
 "cells": [
  {
   "cell_type": "code",
   "execution_count": 28,
   "id": "ae8043b4",
   "metadata": {},
   "outputs": [],
   "source": [
    "import weaviate\n",
    "from weaviate.classes.init import Auth\n",
    "import os\n",
    "from dotenv import load_dotenv"
   ]
  },
  {
   "cell_type": "code",
   "execution_count": 2,
   "id": "2352e0be",
   "metadata": {},
   "outputs": [
    {
     "data": {
      "text/plain": [
       "True"
      ]
     },
     "execution_count": 2,
     "metadata": {},
     "output_type": "execute_result"
    }
   ],
   "source": [
    "load_dotenv()"
   ]
  },
  {
   "cell_type": "code",
   "execution_count": null,
   "id": "5d8a41cd",
   "metadata": {},
   "outputs": [
    {
     "name": "stdout",
     "output_type": "stream",
     "text": [
      "True\n"
     ]
    }
   ],
   "source": [
    "# Best practice: store your credentials in environment variables\n",
    "weaviate_url = os.getenv(\"WEAVIATE_URL\")\n",
    "weaviate_key = os.getenv(\"WEAVIATE_API_KEY\")\n",
    "\n",
    "client = weaviate.connect_to_weaviate_cloud(\n",
    "    cluster_url=weaviate_url,                     # Weaviate URL: \"REST Endpoint\" in Weaviate Cloud console\n",
    "    auth_credentials=Auth.api_key(weaviate_key),  # Weaviate API key: \"ADMIN\" API key in Weaviate Cloud console\n",
    ")\n",
    "\n",
    "print(client.is_ready())  # Should print: `True`"
   ]
  },
  {
   "cell_type": "code",
   "execution_count": 7,
   "id": "4f40436f",
   "metadata": {},
   "outputs": [],
   "source": [
    "from weaviate.classes.config import Configure, Property, DataType"
   ]
  },
  {
   "cell_type": "code",
   "execution_count": null,
   "id": "213f3ee1",
   "metadata": {},
   "outputs": [
    {
     "data": {
      "text/plain": [
       "<weaviate.collections.collection.sync.Collection at 0x118d7fa10>"
      ]
     },
     "execution_count": 9,
     "metadata": {},
     "output_type": "execute_result"
    }
   ],
   "source": [
    "client.collections.create(\n",
    "    \"DemoCollection\",\n",
    "    properties=[\n",
    "        Property(name=\"text\", data_type=DataType.TEXT),\n",
    "        Property(name=\"source\", data_type=DataType.TEXT),\n",
    "        Property(name=\"source_id\", data_type=DataType.TEXT),\n",
    "        Property(name=\"title\", data_type=DataType.TEXT),\n",
    "    ],\n",
    "    vector_config=[\n",
    "        Configure.Vectors.text2vec_weaviate(\n",
    "            name=\"title_vector\", # unfortuantely, this is a typo, should be \"text_vector\" lol\n",
    "            source_properties=[\"text\"],\n",
    "            model=\"Snowflake/snowflake-arctic-embed-l-v2.0\",\n",
    "            # Further options\n",
    "            # dimensions=256\n",
    "            # base_url=\"<custom_weaviate_embeddings_url>\",\n",
    "        )\n",
    "    ],\n",
    "    # Additional parameters not shown\n",
    ")"
   ]
  },
  {
   "cell_type": "code",
   "execution_count": 11,
   "id": "74a5926e",
   "metadata": {},
   "outputs": [],
   "source": [
    "import pandas as pd"
   ]
  },
  {
   "cell_type": "code",
   "execution_count": null,
   "id": "91785e9e",
   "metadata": {},
   "outputs": [
    {
     "name": "stdout",
     "output_type": "stream",
     "text": [
      "22685 source objects to insert\n"
     ]
    }
   ],
   "source": [
    "# read ../data_preprocessing/processed_entities.csv to source_objects\n",
    "# example output:\n",
    "# source_objects = [\n",
    "#     {\"title\": \"The Shawshank Redemption\", \"description\": \"A wrongfully imprisoned man forms an inspiring friendship while finding hope and redemption in the darkest of places.\"},\n",
    "#     {\"title\": \"The Godfather\", \"description\": \"A powerful mafia family struggles to balance loyalty, power, and betrayal in this iconic crime saga.\"},\n",
    "#     {\"title\": \"The Dark Knight\", \"description\": \"Batman faces his greatest challenge as he battles the chaos unleashed by the Joker in Gotham City.\"},\n",
    "#     {\"title\": \"Jingle All the Way\", \"description\": \"A desperate father goes to hilarious lengths to secure the season's hottest toy for his son on Christmas Eve.\"},\n",
    "#     {\"title\": \"A Christmas Carol\", \"description\": \"A miserly old man is transformed after being visited by three ghosts on Christmas Eve in this timeless tale of redemption.\"}\n",
    "# ]\n",
    "# the fields in csv are: Source, ID, Name, Description\n",
    "# map to the fields in the collection:\n",
    "# - source: Source\n",
    "# - source_id: ID\n",
    "# - title: Name\n",
    "# - text: Description\n",
    "\n",
    "df_processed_entities = pd.read_csv(\"../data_preprocessing/processed_entities.csv\")\n",
    "source_objects = df_processed_entities.to_dict(orient=\"records\")\n",
    "# fields in source_objects should match the properties defined in the collection\n",
    "for obj in source_objects:\n",
    "    obj[\"source\"] = obj.pop(\"Source\")\n",
    "    obj[\"source_id\"] = obj.pop(\"ID\")\n",
    "    obj[\"title\"] = obj.pop(\"Name\")\n",
    "    obj[\"text\"] = obj.pop(\"Description\")\n",
    "\n",
    "print(len(source_objects), \"source objects to insert\")\n",
    "\n",
    "collection = client.collections.get(\"DemoCollection\")\n",
    "\n",
    "with collection.batch.fixed_size(batch_size=200) as batch:\n",
    "    for src_obj in source_objects:\n",
    "        # The model provider integration will automatically vectorize the object\n",
    "        batch.add_object(\n",
    "            properties={\n",
    "                # Property(name=\"text\", data_type=DataType.TEXT),\n",
    "                # Property(name=\"source\", data_type=DataType.TEXT),\n",
    "                # Property(name=\"source_id\", data_type=DataType.TEXT),\n",
    "                # Property(name=\"title\", data_type=DataType.TEXT),\n",
    "                \"title\": src_obj[\"title\"],\n",
    "                \"source\": src_obj[\"source\"],\n",
    "                \"source_id\": src_obj[\"source_id\"],\n",
    "                \"text\": src_obj[\"text\"]\n",
    "            },\n",
    "            # vector=vector  # Optionally provide a pre-obtained vector\n",
    "        )\n",
    "        if batch.number_errors > 10:\n",
    "            print(\"Batch import stopped due to excessive errors.\")\n",
    "            break\n",
    "\n",
    "failed_objects = collection.batch.failed_objects\n",
    "if failed_objects:\n",
    "    print(f\"Number of failed imports: {len(failed_objects)}\")\n",
    "    print(f\"First failed object: {failed_objects[0]}\")\n",
    "\n",
    "# the processing of 22,658 source objects is actually very fast, only takes about 53 seconds"
   ]
  },
  {
   "cell_type": "code",
   "execution_count": null,
   "id": "1e58736b",
   "metadata": {},
   "outputs": [],
   "source": [
    "# Weaviate is capable of many types of searches:\n",
    "# similarity searches, keyword searches, hybrid searches, and filtered searches."
   ]
  },
  {
   "cell_type": "code",
   "execution_count": 16,
   "id": "a9d6102a",
   "metadata": {},
   "outputs": [
    {
     "name": "stdout",
     "output_type": "stream",
     "text": [
      "Object(uuid=_WeaviateUUIDInt('95aa1340-8eae-42a7-80d1-42d3d496f1ba'), metadata=MetadataReturn(creation_time=None, last_update_time=None, distance=None, certainty=None, score=None, explain_score=None, is_consistent=None, rerank_score=None), properties={'source': 'US OFAC Specially Designated Nationals (SDN)', 'title': 'Francesca Paola Albanese', 'text': 'US OFAC Specially Designated Nationals (SDN)\\nName: Francesca Paola Albanese\\nType: Person\\nGender: Female\\nLast Name: Albanese\\nFirst Name: Francesca\\nMiddle Name: Paola\\nDate of Birth: 1977-03-30\\nBirth Place: Ariano Irpino, Italy\\nPassport Number: YA4652441\\nSource URL: https://sanctionssearch.ofac.treas.gov/Details.aspx?id=54707\\nAddress: Tunis\\nCountry: IT / TN\\nNationality: IT\\nProgram: US-ICC\\nFirst seen: 2025-07-09T18:10:02\\nLast update: 2025-07-09T18:10:02', 'source_id': 'ofac-54707'}, references=None, vector={}, collection='DemoCollection')\n",
      "Object(uuid=_WeaviateUUIDInt('5aa18d4f-cb9e-47ea-9ec9-255f5bbf068e'), metadata=MetadataReturn(creation_time=None, last_update_time=None, distance=None, certainty=None, score=None, explain_score=None, is_consistent=None, rerank_score=None), properties={'source': 'US OFAC Specially Designated Nationals (SDN)', 'text': 'US OFAC Specially Designated Nationals (SDN)\\nName: Liz Paola Doldan Gonzalez\\nType: Person\\nGender: Female\\nFirst Name: Liz\\nMiddle Name: Paola / Paola Florinda\\nDate of Birth: 1986-09-07\\nBirth Place: Pdte. Stroessner, Paraguay\\nPassport Number: 3379699\\nSource URL: https://sanctionssearch.ofac.treas.gov/Details.aspx?id=28573\\nAlias: Liz Paola Florinda Doldán González / Liz Paola Florinda Doldan Gonzalez\\nAddress: Avenida Canadones Chaquenos Numero 23, Barrio Obrero, Ciudad Del Este\\nCountry: PY\\nNationality: PY\\nProgram: US-GLOMAG\\nFirst seen: 2023-04-20T10:27:20\\nLast update: 2025-06-02T12:10:03', 'title': 'Liz Paola Doldan Gonzalez', 'source_id': 'NK-jxzWYPAinAVMDBfaBvqzjB'}, references=None, vector={}, collection='DemoCollection')\n"
     ]
    }
   ],
   "source": [
    "collection = client.collections.get(\"DemoCollection\")\n",
    "\n",
    "response = collection.query.near_text(\n",
    "    query=\"Francesca Paola Albanese\",  # The model provider integration will automatically vectorize the query\n",
    "    limit=2\n",
    ")\n",
    "\n",
    "for obj in response.objects:\n",
    "    print(obj)"
   ]
  },
  {
   "cell_type": "code",
   "execution_count": 17,
   "id": "acce59c9",
   "metadata": {},
   "outputs": [
    {
     "name": "stdout",
     "output_type": "stream",
     "text": [
      "{'source': 'US OFAC Specially Designated Nationals (SDN)', 'text': 'US OFAC Specially Designated Nationals (SDN)\\nName: Francesca Paola Albanese\\nType: Person\\nGender: Female\\nLast Name: Albanese\\nFirst Name: Francesca\\nMiddle Name: Paola\\nDate of Birth: 1977-03-30\\nBirth Place: Ariano Irpino, Italy\\nPassport Number: YA4652441\\nSource URL: https://sanctionssearch.ofac.treas.gov/Details.aspx?id=54707\\nAddress: Tunis\\nCountry: IT / TN\\nNationality: IT\\nProgram: US-ICC\\nFirst seen: 2025-07-09T18:10:02\\nLast update: 2025-07-09T18:10:02', 'title': 'Francesca Paola Albanese', 'source_id': 'ofac-54707'}\n",
      "{'source': 'US OFAC Specially Designated Nationals (SDN)', 'title': 'Elena Mikhaylovna Afanasyeva', 'text': 'US OFAC Specially Designated Nationals (SDN)\\nName: Елена Михайловна Афанасьева\\nType: Person\\nGender: Female\\nLast Name: Afanasyeva / Pesti / Shudra / Афанасьева\\nFirst Name: Helena / Elena / Елена / Victoria\\nMiddle Name: Михайловна / Mikhaylovna\\nDate of Birth: 1997-06-22\\nBirth Place: Saratov, Russia\\nPassport Number: 752654183\\nSource URL: https://sanctionssearch.ofac.treas.gov/Details.aspx?id=50581\\nAlias: Victoria Pesti / Helena Shudra\\nAddress: Moscow\\nCountry: RU\\nProgram: US-RUSHAR\\nFirst seen: 2024-09-04T18:10:02\\nLast update: 2025-06-02T12:10:03', 'source_id': 'NK-VmreBVaB56rpdcmScnvX7f'}\n"
     ]
    }
   ],
   "source": [
    "collection = client.collections.get(\"DemoCollection\")\n",
    "\n",
    "response = collection.query.near_text(\n",
    "    query=\"Francesca P Albanese\",  # The model provider integration will automatically vectorize the query\n",
    "    limit=2\n",
    ")\n",
    "\n",
    "for obj in response.objects:\n",
    "    print(obj.properties)"
   ]
  },
  {
   "cell_type": "code",
   "execution_count": 18,
   "id": "0edf83cd",
   "metadata": {},
   "outputs": [
    {
     "name": "stdout",
     "output_type": "stream",
     "text": [
      "{'source': 'US OFAC Specially Designated Nationals (SDN)', 'text': 'US OFAC Specially Designated Nationals (SDN)\\nName: Francesca Paola Albanese\\nType: Person\\nGender: Female\\nLast Name: Albanese\\nFirst Name: Francesca\\nMiddle Name: Paola\\nDate of Birth: 1977-03-30\\nBirth Place: Ariano Irpino, Italy\\nPassport Number: YA4652441\\nSource URL: https://sanctionssearch.ofac.treas.gov/Details.aspx?id=54707\\nAddress: Tunis\\nCountry: IT / TN\\nNationality: IT\\nProgram: US-ICC\\nFirst seen: 2025-07-09T18:10:02\\nLast update: 2025-07-09T18:10:02', 'title': 'Francesca Paola Albanese', 'source_id': 'ofac-54707'}\n",
      "{'source': 'US OFAC Specially Designated Nationals (SDN)', 'text': 'US OFAC Specially Designated Nationals (SDN)\\nName: PALESTINE LIBERATION FRONT - ABU ABBAS FACTION\\nType: Organization\\nSource URL: https://sanctionssearch.ofac.treas.gov/Details.aspx?id=4708\\nAlias: PLF / PALESTINE LIBERATION FRONT / PLF-ABU ABBAS\\nProgram: US-TERR\\nFirst seen: 2023-04-20T10:27:20\\nLast update: 2025-06-02T12:10:03', 'title': 'PALESTINE LIBERATION FRONT - ABU ABBAS FACTION', 'source_id': 'NK-9HeRTsMfmmgRGWkabFXdmQ'}\n"
     ]
    }
   ],
   "source": [
    "collection = client.collections.get(\"DemoCollection\")\n",
    "\n",
    "response = collection.query.near_text(\n",
    "    query=\"Frances P ALBAN ESE\",  # The model provider integration will automatically vectorize the query\n",
    "    limit=2\n",
    ")\n",
    "\n",
    "for obj in response.objects:\n",
    "    print(obj.properties)"
   ]
  },
  {
   "cell_type": "code",
   "execution_count": null,
   "id": "a96673d9",
   "metadata": {},
   "outputs": [
    {
     "name": "stdout",
     "output_type": "stream",
     "text": [
      "{'source': 'US OFAC Specially Designated Nationals (SDN)', 'text': 'US OFAC Specially Designated Nationals (SDN)\\nName: Sally-Anne Frances Jones\\nType: Person\\nLast Name: Hussain / Jones\\nFirst Name: Sally / Sally-Anne / Sakinah\\nMiddle Name: Anne / Frances\\nDate of Birth: 1968-11-17\\nBirth Place: Greenwich, England\\nPassport Number: 519408086\\nSource URL: https://sanctionssearch.ofac.treas.gov/Details.aspx?id=18630\\nAlias: Sally Jones / Sakinah Hussain / Sally Anne Jones\\nCountry: GB / SY\\nNationality: GB\\nProgram: US-TERR\\nFirst seen: 2023-04-20T10:27:20\\nLast update: 2025-06-02T12:10:03', 'title': 'Sally-Anne Frances Jones', 'source_id': 'Q27995864'}\n",
      "{'source': 'US FBI Most Wanted', 'title': 'SHAILESHKUMAR P. JAIN', 'text': 'US FBI Most Wanted\\nName: SHAILESHKUMAR P. JAIN\\nType: Person\\nGender: Male\\nDate of Birth: 1970-02-10\\nBirth Place: India\\nHeight: 5\\'8\"\\nWeight: 175 to 180 pounds\\nEye Color: Brown\\nHair Color: Black\\nSource URL: https://www.fbi.gov/wanted/cyber/shaileshkumar-p.-jain\\nAlias: Sam Jain\\nNationality: IN\\nFirst seen: 2024-02-28T17:29:01\\nLast update: 2024-08-08T17:29:03\\nNotes: Languages: English, Hindi, Portuguese NCIC: W510528111 Shaileshkumar P. Jain, along with his co-conspirator, Jain is a United States citizen who has ties to Brazil, Canada, India and the Ukraine.', 'source_id': 'us-fbi-shaileshkumar-p-jain'}\n"
     ]
    }
   ],
   "source": [
    "collection = client.collections.get(\"DemoCollection\")\n",
    "\n",
    "response = collection.query.bm25(\n",
    "    query=\"Frances P ALBAN ESE\",  # The model provider integration will automatically vectorize the query\n",
    "    limit=2\n",
    ")\n",
    "\n",
    "for obj in response.objects:\n",
    "    print(obj.properties)\n",
    "\n",
    "# seems bm25 mainly looks for exact matches, not fuzzy matches"
   ]
  },
  {
   "cell_type": "code",
   "execution_count": 20,
   "id": "78d719b2",
   "metadata": {},
   "outputs": [
    {
     "name": "stdout",
     "output_type": "stream",
     "text": [
      "{'source': 'US OFAC Specially Designated Nationals (SDN)', 'text': 'US OFAC Specially Designated Nationals (SDN)\\nName: Francesca Paola Albanese\\nType: Person\\nGender: Female\\nLast Name: Albanese\\nFirst Name: Francesca\\nMiddle Name: Paola\\nDate of Birth: 1977-03-30\\nBirth Place: Ariano Irpino, Italy\\nPassport Number: YA4652441\\nSource URL: https://sanctionssearch.ofac.treas.gov/Details.aspx?id=54707\\nAddress: Tunis\\nCountry: IT / TN\\nNationality: IT\\nProgram: US-ICC\\nFirst seen: 2025-07-09T18:10:02\\nLast update: 2025-07-09T18:10:02', 'title': 'Francesca Paola Albanese', 'source_id': 'ofac-54707'}\n",
      "{'source': 'US OFAC Specially Designated Nationals (SDN)', 'title': 'Sally-Anne Frances Jones', 'text': 'US OFAC Specially Designated Nationals (SDN)\\nName: Sally-Anne Frances Jones\\nType: Person\\nLast Name: Hussain / Jones\\nFirst Name: Sally / Sally-Anne / Sakinah\\nMiddle Name: Anne / Frances\\nDate of Birth: 1968-11-17\\nBirth Place: Greenwich, England\\nPassport Number: 519408086\\nSource URL: https://sanctionssearch.ofac.treas.gov/Details.aspx?id=18630\\nAlias: Sally Jones / Sakinah Hussain / Sally Anne Jones\\nCountry: GB / SY\\nNationality: GB\\nProgram: US-TERR\\nFirst seen: 2023-04-20T10:27:20\\nLast update: 2025-06-02T12:10:03', 'source_id': 'Q27995864'}\n"
     ]
    }
   ],
   "source": [
    "collection = client.collections.get(\"DemoCollection\")\n",
    "\n",
    "response = collection.query.bm25(\n",
    "    query=\"Frances Albanese\",  # The model provider integration will automatically vectorize the query\n",
    "    limit=2\n",
    ")\n",
    "\n",
    "for obj in response.objects:\n",
    "    print(obj.properties)\n",
    "\n",
    "# seems bm25 mainly looks for exact matches, not fuzzy matches"
   ]
  },
  {
   "cell_type": "code",
   "execution_count": null,
   "id": "ee93ffe7",
   "metadata": {},
   "outputs": [
    {
     "name": "stdout",
     "output_type": "stream",
     "text": [
      "{'source': 'Canadian Consolidated Autonomous Sanctions', 'title': 'Bishr al-Sabban', 'text': 'Canadian Consolidated Autonomous Sanctions\\nName: Bishr al-Sabban\\nType: Person\\nLast Name: al-Sabban\\nFirst Name: Bishr\\nCountry: SY\\nProgram: CA-SEMA\\nFirst seen: 2024-08-06T09:43:02\\nLast update: 2025-05-19T18:43:02', 'source_id': 'Q12198429'}\n",
      "{'source': 'Canadian Consolidated Autonomous Sanctions', 'text': 'Canadian Consolidated Autonomous Sanctions\\nName: Fatemeh Ghorban-Hosseini\\nType: Person\\nLast Name: Ghorban-Hosseini \\nFirst Name: Fatemeh \\nDate of Birth: 1995\\nAlias: فاطمه قربان حسینی\\nCountry: IR\\nProgram: CA-SEMA\\nFirst seen: 2024-08-06T09:43:02\\nLast update: 2025-05-19T18:43:02', 'title': 'Fatemeh Ghorban-Hosseini', 'source_id': 'NK-jFZUUfWkEHG2qdpfvYcXvX'}\n"
     ]
    }
   ],
   "source": [
    "collection = client.collections.get(\"DemoCollection\")\n",
    "\n",
    "response = collection.query.near_text(\n",
    "    query=\"\"\"Frances P ALBAN ESE Hybrid search\n",
    "Hybrid search combines the results of a vector search and a keyword (BM25F) search by fusing the two result sets.\n",
    "The fusion method and the relative weights are configurable.\"\"\",  # The model provider integration will automatically vectorize the query\n",
    "    limit=2\n",
    ")\n",
    "\n",
    "for obj in response.objects:\n",
    "    print(obj.properties)\n",
    "\n",
    "# so with polluted contents, this would cause the embeddings to be more likely to pick up the noise"
   ]
  },
  {
   "cell_type": "code",
   "execution_count": 23,
   "id": "2ee6ea42",
   "metadata": {},
   "outputs": [
    {
     "name": "stdout",
     "output_type": "stream",
     "text": [
      "{'source': 'Canadian Consolidated Autonomous Sanctions', 'text': 'Canadian Consolidated Autonomous Sanctions\\nName: Bishr al-Sabban\\nType: Person\\nLast Name: al-Sabban\\nFirst Name: Bishr\\nCountry: SY\\nProgram: CA-SEMA\\nFirst seen: 2024-08-06T09:43:02\\nLast update: 2025-05-19T18:43:02', 'title': 'Bishr al-Sabban', 'source_id': 'Q12198429'}\n",
      "{'source': 'Canadian Consolidated Autonomous Sanctions', 'title': 'Fatemeh Ghorban-Hosseini', 'text': 'Canadian Consolidated Autonomous Sanctions\\nName: Fatemeh Ghorban-Hosseini\\nType: Person\\nLast Name: Ghorban-Hosseini \\nFirst Name: Fatemeh \\nDate of Birth: 1995\\nAlias: فاطمه قربان حسینی\\nCountry: IR\\nProgram: CA-SEMA\\nFirst seen: 2024-08-06T09:43:02\\nLast update: 2025-05-19T18:43:02', 'source_id': 'NK-jFZUUfWkEHG2qdpfvYcXvX'}\n",
      "{'source': 'Canadian Consolidated Autonomous Sanctions', 'text': 'Canadian Consolidated Autonomous Sanctions\\nName: The Law Enforcement Forces (LEF\\nType: LegalEntity\\nAlias: فرماندهی انتظامی جمهوری اسلامی ایران\\nCountry: IR\\nProgram: CA-SEMA\\nFirst seen: 2024-08-06T09:43:02\\nLast update: 2025-05-19T18:43:02', 'title': 'The Law Enforcement Forces (LEF', 'source_id': 'NK-nsy3JSHjVkTWnCNPVhRAv2'}\n",
      "{'source': 'Canadian Consolidated Autonomous Sanctions', 'title': 'Socorro Elizabeth HERNÁNDEZ HERNÁNDEZ', 'text': 'Canadian Consolidated Autonomous Sanctions\\nName: Socorro Elizabeth HERNÁNDEZ HERNÁNDEZ\\nType: Person\\nLast Name: HERNÁNDEZ HERNÁNDEZ\\nFirst Name: Socorro Elizabeth\\nCountry: VE\\nProgram: CA-SEMA\\nFirst seen: 2024-08-06T09:43:02\\nLast update: 2025-05-19T18:43:02', 'source_id': 'Q63098872'}\n",
      "{'source': 'Canadian Consolidated Autonomous Sanctions', 'title': 'Firas Al-Hamed', 'text': 'Canadian Consolidated Autonomous Sanctions\\nName: Firas Al-Hamed\\nType: Person\\nLast Name: Al-Hamed\\nFirst Name: Firas\\xa0\\nCountry: SY\\nProgram: CA-SEMA\\nFirst seen: 2024-08-06T09:43:02\\nLast update: 2025-05-19T18:43:02', 'source_id': 'NK-G4DsvsNKuZqK7XXTTjHb86'}\n",
      "{'source': 'Canadian Consolidated Autonomous Sanctions', 'text': 'Canadian Consolidated Autonomous Sanctions\\nName: Hervé Fourcand\\nType: Person\\nLast Name: Fourcand\\nFirst Name: Hervé\\nCountry: HT\\nProgram: CA-SEMA\\nFirst seen: 2024-08-06T09:43:02\\nLast update: 2025-05-19T18:43:02', 'title': 'Hervé Fourcand', 'source_id': 'Q28803393'}\n",
      "{'source': 'Canadian Consolidated Autonomous Sanctions', 'text': 'Canadian Consolidated Autonomous Sanctions\\nName: Svetlana Viktorovna BESSARAB\\nType: Person\\nLast Name: BESSARAB\\nFirst Name: Svetlana Viktorovna\\nAlias: Бессараб Светлана Викторовна\\nCountry: RU\\nProgram: CA-SEMA\\nFirst seen: 2024-08-06T09:43:02\\nLast update: 2025-05-19T18:43:02', 'title': 'Svetlana Viktorovna BESSARAB', 'source_id': 'Q42295860'}\n",
      "{'source': 'Canadian Consolidated Autonomous Sanctions', 'title': 'Fanny Beatriz MÁRQUEZ CORDERO', 'text': 'Canadian Consolidated Autonomous Sanctions\\nName: Fanny Beatriz MÁRQUEZ CORDERO\\nType: Person\\nLast Name: MÁRQUEZ CORDERO\\nFirst Name: Fanny Beatriz\\nCountry: VE\\nProgram: CA-SEMA\\nFirst seen: 2024-08-06T09:43:02\\nLast update: 2025-05-19T18:43:02', 'source_id': 'NK-nAQ7GW8aTYhSGysmJihBMs'}\n",
      "{'source': 'Canadian Consolidated Autonomous Sanctions', 'title': 'Hubert SEIPEL', 'text': 'Canadian Consolidated Autonomous Sanctions\\nName: Hubert SEIPEL\\nType: Person\\nLast Name: SEIPEL\\nFirst Name: Hubert\\nDate of Birth: 1950\\nCountry: RU\\nProgram: CA-SEMA\\nFirst seen: 2025-02-24T18:43:03\\nLast update: 2025-05-19T18:43:02', 'source_id': 'ca-sema-4dee568a5b27c6276e71dd6c6d38f2dc6d9b622e'}\n",
      "{'source': 'Canadian Consolidated Autonomous Sanctions', 'title': 'Murad Fathi', 'text': 'Canadian Consolidated Autonomous Sanctions\\nName: Murad Fathi\\nType: Person\\nLast Name: Fathi\\nFirst Name: Murad\\nAlias: مراد فتحی\\nCountry: IR\\nProgram: CA-SEMA\\nFirst seen: 2024-08-06T09:43:02\\nLast update: 2025-05-19T18:43:02', 'source_id': 'NK-2QdZaCz27fa4J9EXubJsz2'}\n"
     ]
    }
   ],
   "source": [
    "collection = client.collections.get(\"DemoCollection\")\n",
    "\n",
    "response = collection.query.near_text(\n",
    "    query=\"\"\"Frances P ALBAN ESE Hybrid search\n",
    "Hybrid search combines the results of a vector search and a keyword (BM25F) search by fusing the two result sets.\n",
    "The fusion method and the relative weights are configurable.\"\"\",  # The model provider integration will automatically vectorize the query\n",
    "    limit=10\n",
    ")\n",
    "\n",
    "for obj in response.objects:\n",
    "    print(obj.properties)\n",
    "\n",
    "# so with polluted contents, this would cause the embeddings to be more likely to pick up the noise"
   ]
  },
  {
   "cell_type": "code",
   "execution_count": null,
   "id": "fe183af0",
   "metadata": {},
   "outputs": [
    {
     "name": "stdout",
     "output_type": "stream",
     "text": [
      "{'source': 'US OFAC Specially Designated Nationals (SDN)', 'text': 'US OFAC Specially Designated Nationals (SDN)\\nName: مصطفى حبيب حرب\\nType: Person\\nGender: Male\\nLast Name: حرب / Harb\\nFirst Name: مصطفى / Mustafa / Mustapha / Mostafa\\nMiddle Name: حبيب / Habib\\nDate of Birth: 1973-08-06\\nBirth Place: Haruf, Lebanon\\nSource URL: https://sanctionssearch.ofac.treas.gov/Details.aspx?id=31771\\nAlias: Mostafa Habib Harb / Mustapha Harb\\nAddress: Haruf\\nCountry: LB\\nProgram: US-TERR\\nFirst seen: 2023-04-20T10:27:20\\nLast update: 2025-06-02T12:10:03', 'title': 'Mustafa Habib Harb', 'source_id': 'NK-2ZYZgqNdJg9JVcxoWv6PP9'}\n",
      "{'source': 'US OFAC Specially Designated Nationals (SDN)', 'title': 'Abbas Hassan Gharib', 'text': 'US OFAC Specially Designated Nationals (SDN)\\nName: عباس حسن غريب\\nType: Person\\nGender: Male\\nLast Name: غريب / Gharib\\nFirst Name: عباس / Abbas\\nMiddle Name: Hassan / حسن\\nDate of Birth: 1969-09-25\\nBirth Place: Tayir Harfa, Lebanon\\nSource URL: https://sanctionssearch.ofac.treas.gov/Details.aspx?id=31756\\nAddress: Tayir Harfa, Tyre\\nCountry: LB\\nProgram: US-TERR\\nFirst seen: 2023-04-20T10:27:20\\nLast update: 2025-06-02T12:10:03', 'source_id': 'NK-YrYZMZC4pUtz7sJvG57Tia'}\n",
      "{'source': 'US OFAC Specially Designated Nationals (SDN)', 'text': 'US OFAC Specially Designated Nationals (SDN)\\nName: Sally-Anne Frances Jones\\nType: Person\\nLast Name: Hussain / Jones\\nFirst Name: Sally / Sally-Anne / Sakinah\\nMiddle Name: Anne / Frances\\nDate of Birth: 1968-11-17\\nBirth Place: Greenwich, England\\nPassport Number: 519408086\\nSource URL: https://sanctionssearch.ofac.treas.gov/Details.aspx?id=18630\\nAlias: Sally Jones / Sakinah Hussain / Sally Anne Jones\\nCountry: GB / SY\\nNationality: GB\\nProgram: US-TERR\\nFirst seen: 2023-04-20T10:27:20\\nLast update: 2025-06-02T12:10:03', 'title': 'Sally-Anne Frances Jones', 'source_id': 'Q27995864'}\n",
      "{'source': 'US OFAC Specially Designated Nationals (SDN)', 'title': 'Alla Fedorovna Baban', 'text': 'US OFAC Specially Designated Nationals (SDN)\\nName: Alla Fedorovna Baban\\nType: Person\\nGender: Female\\nLast Name: Baban\\nFirst Name: Alla\\nMiddle Name: Fedorovna\\nDate of Birth: 1964-09-13\\nBirth Place: Arioneshty, Moldova\\nSource URL: https://sanctionssearch.ofac.treas.gov/Details.aspx?id=45046\\nAddress: Moscow\\nCountry: RU / GB\\nProgram: US-RUSHAR\\nFirst seen: 2023-09-14T14:35:01\\nLast update: 2025-06-02T12:10:03', 'source_id': 'NK-dZEmhiTRgg9CakS2AMTdS4'}\n",
      "{'source': 'US OFAC Specially Designated Nationals (SDN)', 'title': \"Sultan Yusuf Hasan AL-'ARIF\", 'text': \"US OFAC Specially Designated Nationals (SDN)\\nName: Sultan Yusuf Hasan AL-'ARIF\\nType: Person\\nGender: Male\\nLast Name: AL-SAUDI / AL-'ARIF / AL-NAJDI / AL-'ABDALI\\nFirst Name: Qattal / Sultan / Qital / Abu\\nMiddle Name: Yusuf Hasan / Musab\\nDate of Birth: 1986-06-27 / 1986-06-28\\nBirth Place: Jeddah, Saudi Arabia\\nSource URL: https://sanctionssearch.ofac.treas.gov/Details.aspx?id=30884\\nAlias: Abu Musab AL-SAUDI / Qattal AL-'ABDALI / Qital AL-NAJDI / Qital AL-'ABDALI\\nCountry: IR / AF\\nNationality: SA\\nProgram: US-TERR\\nFirst seen: 2023-04-20T10:27:20\\nLast update: 2025-06-02T12:10:03\", 'source_id': 'NK-fzWnUWw3toBDGDbogL5A2X'}\n",
      "{'source': 'US OFAC Specially Designated Nationals (SDN)', 'title': 'Firas Hasan Moukalled', 'text': 'US OFAC Specially Designated Nationals (SDN)\\nName: Firas Hasan Moukalled\\nType: Person\\nGender: Male\\nLast Name: Moukalled / Mqallad / مقلد / Muqallid\\nFirst Name: فراس / Firas\\nMiddle Name: Hasan / حسن\\nDate of Birth: 1990-10-09\\nBirth Place: Lebanon\\nSource URL: https://sanctionssearch.ofac.treas.gov/Details.aspx?id=48325\\nAlias: Firas Hasan Mqallad / Firas Hasan Muqallid / Firas Moukalled\\nCountry: LB\\nProgram: US-TERR\\nFirst seen: 2024-05-02T14:11:14\\nLast update: 2025-06-02T12:10:03', 'source_id': 'NK-T9xK2F2HhQx7MbvcbuwRYG'}\n",
      "{'source': 'US OFAC Specially Designated Nationals (SDN)', 'text': 'US OFAC Specially Designated Nationals (SDN)\\nName: Freddy Alfred Nazaret Nanez Contreras\\nType: Person\\nGender: Male\\nFirst Name: Freddy\\nMiddle Name: Alfred\\nDate of Birth: 1976-04-15\\nBirth Place: Petare, Miranda, Venezuela\\nID Number: V13113260\\nSource URL: https://sanctionssearch.ofac.treas.gov/Details.aspx?id=51271\\nAlias: Freddy Alfred Nazareth Nanez Contreras\\nCountry: VE\\nNationality: VE\\nProgram: US-VEN\\nFirst seen: 2024-11-27T16:10:03\\nLast update: 2025-06-02T12:10:03', 'title': 'Freddy Alfred Nazaret Nanez Contreras', 'source_id': 'Q22133019'}\n",
      "{'source': 'US OFAC Specially Designated Nationals (SDN)', 'text': 'US OFAC Specially Designated Nationals (SDN)\\nName: Abbas Hussein HARB\\nType: Person\\nLast Name: HARB\\nFirst Name: Abass Hussein / Abbas Hussein\\nDate of Birth: 1979-11-11\\nBirth Place: Lebanon\\nID Number: 21495203 / 264521 / 22465548 / 6390001813\\nPassport Number: 1368212\\nSource URL: https://sanctionssearch.ofac.treas.gov/Details.aspx?id=12891\\nAlias: Abass Hussein HARB\\nAddress: Calle 10 No 11-63, Maicao / Calle 10A No.12-21, Maicao / Ave Pedro Melean, cruce con Calle No. 73, Local No. 22, Sector Santa Rosa, Valencia / Carrera 70 No. 76-50 BG 3, Barranquilla\\nCountry: VE / CO\\nProgram: US-NARCO\\nFirst seen: 2023-04-20T10:27:20\\nLast update: 2025-06-02T12:10:03', 'title': 'Abbas Hussein HARB', 'source_id': 'NK-EtMyFqTLaLqV6Yw7c5bm7t'}\n",
      "{'source': 'US OFAC Specially Designated Nationals (SDN)', 'title': 'Jesus Abraham LABRA AVILES', 'text': 'US OFAC Specially Designated Nationals (SDN)\\nName: Jesus Abraham LABRA AVILES\\nType: Person\\nLast Name: AVILES / LABRA AVILES\\nFirst Name: Jesus Abraham / Jesus Labra\\nDate of Birth: 1945\\nSource URL: https://sanctionssearch.ofac.treas.gov/Details.aspx?id=8800\\nAlias: Jesus Labra AVILES\\nNationality: MX\\nProgram: US-NARCO\\nFirst seen: 2023-04-20T10:27:20\\nLast update: 2025-06-02T12:10:03', 'source_id': 'NK-3J2mY2jZR2EoRUS86XPUZu'}\n",
      "{'source': 'US OFAC Specially Designated Nationals (SDN)', 'text': 'US OFAC Specially Designated Nationals (SDN)\\nName: Meshal Saad M. Albostani\\nType: Person\\nGender: Male\\nLast Name: Albost / Albostani / al-Bostani\\nFirst Name: Meshal\\nMiddle Name: Saad / Saad M. / Saad M\\nDate of Birth: 1987-03-27\\nPassport Number: R339037\\nSource URL: https://sanctionssearch.ofac.treas.gov/Details.aspx?id=26077\\nAlias: Meshal Saad M Albost / Meshal Saad al-Bostani\\nCountry: SA\\nNationality: SA\\nProgram: US-GLOMAG\\nFirst seen: 2023-04-20T10:27:20\\nLast update: 2025-06-02T12:10:03', 'title': 'Meshal Saad M. Albostani', 'source_id': 'NK-gRUYnSWHsuNw5RPiPHLmup'}\n"
     ]
    }
   ],
   "source": [
    "collection = client.collections.get(\"DemoCollection\")\n",
    "\n",
    "response = collection.query.near_text(\n",
    "    query=\"\"\"\n",
    "    Find information about Frances P ALBAN ESE. Only consider this name.\n",
    "\n",
    "Hybrid search\n",
    "Hybrid search combines the results of a vector search and a keyword (BM25F) search by fusing the two result sets.\n",
    "The fusion method and the relative weights are configurable.\"\"\",  # The model provider integration will automatically vectorize the query\n",
    "    limit=10\n",
    ")\n",
    "\n",
    "for obj in response.objects:\n",
    "    print(obj.properties)\n",
    "\n",
    "# seems even with query hinting the name should be the focus, it still returns the noises"
   ]
  },
  {
   "cell_type": "code",
   "execution_count": null,
   "id": "632ada06",
   "metadata": {},
   "outputs": [
    {
     "name": "stdout",
     "output_type": "stream",
     "text": [
      "{'source': 'US OFAC Specially Designated Nationals (SDN)', 'text': 'US OFAC Specially Designated Nationals (SDN)\\nName: Francesca Paola Albanese\\nType: Person\\nGender: Female\\nLast Name: Albanese\\nFirst Name: Francesca\\nMiddle Name: Paola\\nDate of Birth: 1977-03-30\\nBirth Place: Ariano Irpino, Italy\\nPassport Number: YA4652441\\nSource URL: https://sanctionssearch.ofac.treas.gov/Details.aspx?id=54707\\nAddress: Tunis\\nCountry: IT / TN\\nNationality: IT\\nProgram: US-ICC\\nFirst seen: 2025-07-09T18:10:02\\nLast update: 2025-07-09T18:10:02', 'title': 'Francesca Paola Albanese', 'source_id': 'ofac-54707'}\n",
      "{'source': 'US OFAC Specially Designated Nationals (SDN)', 'title': 'PALESTINE LIBERATION FRONT - ABU ABBAS FACTION', 'text': 'US OFAC Specially Designated Nationals (SDN)\\nName: PALESTINE LIBERATION FRONT - ABU ABBAS FACTION\\nType: Organization\\nSource URL: https://sanctionssearch.ofac.treas.gov/Details.aspx?id=4708\\nAlias: PLF / PALESTINE LIBERATION FRONT / PLF-ABU ABBAS\\nProgram: US-TERR\\nFirst seen: 2023-04-20T10:27:20\\nLast update: 2025-06-02T12:10:03', 'source_id': 'NK-9HeRTsMfmmgRGWkabFXdmQ'}\n"
     ]
    }
   ],
   "source": [
    "collection = client.collections.get(\"DemoCollection\")\n",
    "\n",
    "response = collection.query.near_text(\n",
    "    query=\"\"\"\n",
    "    Name: Frances P ALBAN ESE\n",
    "    (born 1977) is an Italian legal scholar and expert on human rights who has served as the United Nations (UN) Special Rapporteur on the situation of human rights in the Palestinian territories occupied since 1967 since 1 May 2022; initially appointed for a three-year term, in April 2025 she was confirmed for another three years. She is the first woman to hold the position. In response the United States Department of the Treasury under the Trump administration imposed sanctions on Albanese under Executive Order naming her a xxx, thus forbidding all related persons and companies from doing business with her.\n",
    "-website: https://en.wikipedia.org/wiki/\n",
    "-website: https://www.state.gov/releases/\n",
    "    UN calls for reversal of US sanctions for Francesca Paola Albanese: https://news.un.org/en/story/2025/07/1165359\n",
    "    \"\"\",  # The model provider integration will automatically vectorize the query\n",
    "    limit=2\n",
    ")\n",
    "\n",
    "for obj in response.objects:\n",
    "    print(obj.properties)\n",
    "\n",
    "# so with polluted contents, this would cause the embeddings to be more likely to pick up the noise\n",
    "# seems related content is ok, unsure if additional not mentioned but related content is also ok"
   ]
  },
  {
   "cell_type": "code",
   "execution_count": 27,
   "id": "d25970a5",
   "metadata": {},
   "outputs": [],
   "source": [
    "# Work with Weaviate\n",
    "client.close()"
   ]
  }
 ],
 "metadata": {
  "kernelspec": {
   "display_name": "agent-ai-data",
   "language": "python",
   "name": "python3"
  },
  "language_info": {
   "codemirror_mode": {
    "name": "ipython",
    "version": 3
   },
   "file_extension": ".py",
   "mimetype": "text/x-python",
   "name": "python",
   "nbconvert_exporter": "python",
   "pygments_lexer": "ipython3",
   "version": "3.12.11"
  }
 },
 "nbformat": 4,
 "nbformat_minor": 5
}
